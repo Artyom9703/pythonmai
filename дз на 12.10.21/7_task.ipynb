{
 "cells": [
  {
   "cell_type": "markdown",
   "id": "d89e88d8",
   "metadata": {},
   "source": [
    "# Самостоятельное задание #7\n",
    "\n",
    "\n",
    "### Задание 1\n",
    "\n",
    "Допишите функцию, которая принимает список чисел и, с помощью множеств, определяет количество различных чисел внутри списка."
   ]
  },
  {
   "cell_type": "code",
   "execution_count": 2,
   "id": "1b443f02",
   "metadata": {},
   "outputs": [
    {
     "name": "stdout",
     "output_type": "stream",
     "text": [
      "7\n"
     ]
    }
   ],
   "source": [
    "# Начните писать код тут\n",
    "def list_of_numbers(list):\n",
    "    set_1 = set(list)\n",
    "    print(len(set_1))\n",
    "\n",
    "\n",
    "list = [1, 1, 2, 3, 4, 5, 6, 6, 7 ]\n",
    "\n",
    "\n",
    "list_of_numbers(list)"
   ]
  },
  {
   "cell_type": "markdown",
   "id": "89118666",
   "metadata": {},
   "source": [
    "### Задание 2\n",
    "\n",
    "Допишите функцию, которая принимает несколько списков чисел и, с помощью множеств, определяет количество общих чисел из первого и второго списка."
   ]
  },
  {
   "cell_type": "code",
   "execution_count": 4,
   "id": "9ad5e3fd",
   "metadata": {},
   "outputs": [
    {
     "name": "stdout",
     "output_type": "stream",
     "text": [
      "6\n"
     ]
    }
   ],
   "source": [
    "# Начните писать код тут\n",
    "def multiple_lists_of_numbers(list1, list2):\n",
    "    set1, set2 = set(list1), set(list2)\n",
    "    total = set1 & set2\n",
    "    print(len(total))\n",
    "\n",
    "\n",
    "list1 = [1, 1, 2, 3, 4, 5, 6, 6, 7]\n",
    "list2 = [1, 2, 3, 4, 5, 7, 10, 11, 462]\n",
    "\n",
    "\n",
    "multiple_lists_of_numbers(list1, list2)"
   ]
  },
  {
   "cell_type": "code",
   "execution_count": null,
   "id": "e4ef9f89",
   "metadata": {},
   "outputs": [],
   "source": []
  }
 ],
 "metadata": {
  "kernelspec": {
   "display_name": "Python 3 (ipykernel)",
   "language": "python",
   "name": "python3"
  },
  "language_info": {
   "codemirror_mode": {
    "name": "ipython",
    "version": 3
   },
   "file_extension": ".py",
   "mimetype": "text/x-python",
   "name": "python",
   "nbconvert_exporter": "python",
   "pygments_lexer": "ipython3",
   "version": "3.9.7"
  }
 },
 "nbformat": 4,
 "nbformat_minor": 5
}
