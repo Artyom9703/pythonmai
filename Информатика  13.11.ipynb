{
 "cells": [
  {
   "cell_type": "code",
   "execution_count": 1,
   "id": "b37cf5a8",
   "metadata": {},
   "outputs": [
    {
     "name": "stdout",
     "output_type": "stream",
     "text": [
      "Requirement already satisfied: numpy in c:\\users\\артём\\desktop\\новая папка\\lib\\site-packages (1.21.2)\n"
     ]
    },
    {
     "name": "stderr",
     "output_type": "stream",
     "text": [
      "WARNING: You are using pip version 21.2.3; however, version 21.3.1 is available.\n",
      "You should consider upgrading via the 'C:\\Users\\Артём\\Desktop\\Новая папка\\python.exe -m pip install --upgrade pip' command.\n"
     ]
    }
   ],
   "source": [
    "! pip install numpy"
   ]
  },
  {
   "cell_type": "code",
   "execution_count": 8,
   "id": "1fe357ba",
   "metadata": {},
   "outputs": [
    {
     "name": "stdout",
     "output_type": "stream",
     "text": [
      "12345.0\n",
      "float64\n",
      "[[1.]]\n"
     ]
    }
   ],
   "source": [
    "import numpy as np\n",
    "\n",
    "a = np.array([1, 2, 3])\n",
    "\n",
    "b = np.array([-1, -2, -3]).astype(np.float64)\n",
    "\n",
    "b[1] = '12345'\n",
    "print(b[1])\n",
    "print(b.dtype)\n",
    "\n",
    "e = np.identity(1)\n",
    "print(e)\n",
    "\n",
    "\n"
   ]
  },
  {
   "cell_type": "code",
   "execution_count": 9,
   "id": "9fad87f7",
   "metadata": {},
   "outputs": [
    {
     "name": "stdout",
     "output_type": "stream",
     "text": [
      "[[1 2]\n",
      " [6 3]]\n"
     ]
    }
   ],
   "source": [
    "import numpy as np\n",
    "\n",
    "\n",
    "matrix = np.array([[1, 2], [6, 3]])\n",
    "print(matrix)"
   ]
  },
  {
   "cell_type": "code",
   "execution_count": 17,
   "id": "4661369f",
   "metadata": {},
   "outputs": [
    {
     "name": "stdout",
     "output_type": "stream",
     "text": [
      "(2, 2)\n",
      "[[2 3]\n",
      " [6 3]]\n",
      "[[ 2  6]\n",
      " [18 12]]\n",
      "[[11 16]\n",
      " [15 24]]\n",
      "[[11 16]\n",
      " [15 24]]\n"
     ]
    }
   ],
   "source": [
    "import numpy as np\n",
    "\n",
    "m1 = np.array([[2, 3], [6, 3]])\n",
    "print(m1.shape)\n",
    "print(m1)\n",
    "\n",
    "m2 = np.array([1, 2, 3, 4]).reshape((2, 2))\n",
    "\n",
    "\n",
    "print(m1 * m2)\n",
    "\n",
    "print(m1 @ m2)\n",
    "\n",
    "m3 = m1 @ m2\n",
    "\n",
    "print(m3)"
   ]
  },
  {
   "cell_type": "code",
   "execution_count": 18,
   "id": "8fed8c6c",
   "metadata": {},
   "outputs": [
    {
     "name": "stdout",
     "output_type": "stream",
     "text": [
      "[[ 2  6]\n",
      " [18 12]]\n",
      "[[-0.25        0.25      ]\n",
      " [ 0.5        -0.16666667]]\n",
      "result: [ 2  6 12 20]\n"
     ]
    }
   ],
   "source": [
    "import numpy as np\n",
    "\n",
    "m1 = np.array([[2, 3], [6, 3]])\n",
    "\n",
    "m2 = np.array([1, 2, 3, 4]).reshape((2, 2))\n",
    "\n",
    "\n",
    "print(m1 * m2)\n",
    "\n",
    "print(np.linalg.inv(m1))\n",
    "\n",
    "\n",
    "print(f'result: {np.array([2, 4, 6, 8]).cumsum()}')"
   ]
  },
  {
   "cell_type": "code",
   "execution_count": 23,
   "id": "ba4af6d9",
   "metadata": {},
   "outputs": [
    {
     "name": "stdout",
     "output_type": "stream",
     "text": [
      "[[0 1 2]\n",
      " [3 4 5]\n",
      " [6 7 8]]\n",
      "[3 4 5]\n"
     ]
    }
   ],
   "source": [
    "import numpy as np\n",
    "\n",
    "\n",
    "n = np.arange(9).reshape((3, 3))\n",
    "print(n)\n",
    "\n",
    "print(n[1, :])\n",
    "\n"
   ]
  },
  {
   "cell_type": "code",
   "execution_count": 26,
   "id": "5aad844c",
   "metadata": {},
   "outputs": [
    {
     "name": "stdout",
     "output_type": "stream",
     "text": [
      "[[0 1 2]\n",
      " [3 4 5]\n",
      " [6 7 8]]\n",
      "[[0 3 6]\n",
      " [1 4 7]\n",
      " [2 5 8]]\n",
      "[0 1 2 3 4 5 6 7 8]\n"
     ]
    }
   ],
   "source": [
    "import numpy as np\n",
    "\n",
    "\n",
    "n = np.arange(9).reshape((3, 3))\n",
    "print(n)\n",
    "print(n.T)\n",
    "\n",
    "b = n[:, :]\n",
    "print(b.ravel())\n",
    "\n",
    "\n"
   ]
  },
  {
   "cell_type": "code",
   "execution_count": 29,
   "id": "f9b68521",
   "metadata": {},
   "outputs": [
    {
     "name": "stdout",
     "output_type": "stream",
     "text": [
      "ones: [1. 1. 1. 1. 1. 1. 1. 1. 1. 1.]\n",
      "zeros: [0. 0. 0. 0. 0. 0. 0. 0. 0. 0.]\n",
      "[1. 1. 1. 1. 1. 1. 1. 1. 1. 1. 0. 0. 0. 0. 0. 0. 0. 0. 0. 0.]\n",
      "[[1. 1. 1. 1. 1. 1. 1. 1. 1. 1.]\n",
      " [0. 0. 0. 0. 0. 0. 0. 0. 0. 0.]]\n"
     ]
    }
   ],
   "source": [
    "import numpy as np\n",
    "\n",
    "ones = np.ones(10)\n",
    "zeros = np.zeros(10)\n",
    "\n",
    "print(f'ones: {ones}')\n",
    "print(f'zeros: {zeros}')\n",
    "\n",
    "\n",
    "print(np.hstack((ones, zeros)))\n",
    "print(np.vstack((ones, zeros)))\n"
   ]
  },
  {
   "cell_type": "code",
   "execution_count": null,
   "id": "e688b602",
   "metadata": {},
   "outputs": [],
   "source": []
  },
  {
   "cell_type": "code",
   "execution_count": 42,
   "id": "3604ae24",
   "metadata": {},
   "outputs": [
    {
     "name": "stdout",
     "output_type": "stream",
     "text": [
      "[[ 0  1  2  3]\n",
      " [ 4  5  6  7]\n",
      " [ 8  9 10 11]\n",
      " [12 13 14 15]]\n",
      "[ 4  9 14]\n"
     ]
    }
   ],
   "source": [
    "import numpy as np\n",
    "\n",
    "n = np.arange(16).reshape((4, 4))\n",
    "\n",
    "print(n)\n",
    "print(n.diagonal(-1))"
   ]
  },
  {
   "cell_type": "code",
   "execution_count": null,
   "id": "41e608a2",
   "metadata": {},
   "outputs": [],
   "source": []
  }
 ],
 "metadata": {
  "kernelspec": {
   "display_name": "Python 3 (ipykernel)",
   "language": "python",
   "name": "python3"
  },
  "language_info": {
   "codemirror_mode": {
    "name": "ipython",
    "version": 3
   },
   "file_extension": ".py",
   "mimetype": "text/x-python",
   "name": "python",
   "nbconvert_exporter": "python",
   "pygments_lexer": "ipython3",
   "version": "3.9.7"
  }
 },
 "nbformat": 4,
 "nbformat_minor": 5
}
