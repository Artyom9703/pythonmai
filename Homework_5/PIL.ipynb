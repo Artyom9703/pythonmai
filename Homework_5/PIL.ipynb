{
 "cells": [
  {
   "cell_type": "code",
   "execution_count": 4,
   "id": "b74a9002",
   "metadata": {},
   "outputs": [],
   "source": [
    "from PIL import Image, ImageFilter, ImageDraw\n",
    "\n",
    "image = Image.open('picture.jpg')\n",
    "(width, height) = im.size\n",
    "pixels = im.load()\n",
    "invert_im = Image.new(im.mode, im.size)\n",
    "drawer = ImageDraw.Draw(invert_im)\n",
    "\n",
    "for x in range(0, width):\n",
    "    for y in range(0, height):\n",
    "        (r, g, b) = pixels[x, y] \n",
    "        drawer.point((x, y), (255-r, 255-g, 255-b))\n",
    "\n",
    "blur_im = invert_im.filter(ImageFilter.BoxBlur(10))\n",
    "blur_im.show()\n",
    "blur_im.save('picture_blur_invert.jpg')\n"
   ]
  },
  {
   "cell_type": "code",
   "execution_count": null,
   "id": "f574678a",
   "metadata": {},
   "outputs": [],
   "source": []
  },
  {
   "cell_type": "code",
   "execution_count": null,
   "id": "1f6fee43",
   "metadata": {},
   "outputs": [],
   "source": []
  }
 ],
 "metadata": {
  "kernelspec": {
   "display_name": "Python 3 (ipykernel)",
   "language": "python",
   "name": "python3"
  },
  "language_info": {
   "codemirror_mode": {
    "name": "ipython",
    "version": 3
   },
   "file_extension": ".py",
   "mimetype": "text/x-python",
   "name": "python",
   "nbconvert_exporter": "python",
   "pygments_lexer": "ipython3",
   "version": "3.9.7"
  }
 },
 "nbformat": 4,
 "nbformat_minor": 5
}
