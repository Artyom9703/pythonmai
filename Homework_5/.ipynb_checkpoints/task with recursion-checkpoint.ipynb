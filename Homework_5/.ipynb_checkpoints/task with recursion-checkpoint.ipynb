{
 "cells": [
  {
   "cell_type": "code",
   "execution_count": 4,
   "id": "fb552b86",
   "metadata": {},
   "outputs": [
    {
     "name": "stdout",
     "output_type": "stream",
     "text": [
      "4\n",
      "4\n",
      "None\n"
     ]
    }
   ],
   "source": [
    "def recursive_print_list(l: list, k : int = 0):\n",
    "    if k == (len(l)):\n",
    "        return\n",
    "    print(l[k])\n",
    "    print_list(l, k + 1)\n",
    "\n",
    "\n",
    "list_1 = input().split()\n",
    "\n",
    "print(recursive_print_list(list_1))"
   ]
  },
  {
   "cell_type": "code",
   "execution_count": null,
   "id": "19b905e1",
   "metadata": {},
   "outputs": [],
   "source": []
  }
 ],
 "metadata": {
  "kernelspec": {
   "display_name": "Python 3 (ipykernel)",
   "language": "python",
   "name": "python3"
  },
  "language_info": {
   "codemirror_mode": {
    "name": "ipython",
    "version": 3
   },
   "file_extension": ".py",
   "mimetype": "text/x-python",
   "name": "python",
   "nbconvert_exporter": "python",
   "pygments_lexer": "ipython3",
   "version": "3.9.7"
  }
 },
 "nbformat": 4,
 "nbformat_minor": 5
}
